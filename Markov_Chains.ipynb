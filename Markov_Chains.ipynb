{
 "cells": [
  {
   "cell_type": "code",
   "execution_count": null,
   "id": "efe199b3",
   "metadata": {},
   "outputs": [],
   "source": [
    "import numpy as np\n",
    "import random\n",
    "import networkx as nx\n",
    "import matplotlib.pyplot as plt\n",
    "import pickle\n",
    "from tqdm import tqdm"
   ]
  },
  {
   "cell_type": "markdown",
   "id": "97d408f1",
   "metadata": {},
   "source": [
    "## Markov Chains\n",
    "\n",
    "### Funciones Auxiliares"
   ]
  },
  {
   "cell_type": "code",
   "execution_count": 1,
   "id": "8d916ec0",
   "metadata": {},
   "outputs": [],
   "source": [
    "def g(u, a):\n",
    "    \"\"\"\n",
    "    Calcula el siguiente estado basado en la distribución inicial.\n",
    "\n",
    "    Parámetros:\n",
    "    - u: Número Aleatorio.\n",
    "    - a: Vector de distribución incial.\n",
    "\n",
    "    Retorna:\n",
    "    - len(a) - 1: Siguiente estado.\n",
    "    \"\"\"\n",
    "    cumulative_sum = 0\n",
    "    for i, prob in enumerate(a):\n",
    "        cumulative_sum += prob\n",
    "        if u < cumulative_sum:\n",
    "            return i\n",
    "    return len(a) - 1\n",
    "\n",
    "def f(i, u, P):\n",
    "    \"\"\"\n",
    "    Calcula el siguiente estado basado en el estado actual y la probabilidad de transición.\n",
    "\n",
    "    Parámetros:\n",
    "    - i: Estado Actual.\n",
    "    - u: Número Aleatorio.\n",
    "    - P: Matriz de Transición.\n",
    "\n",
    "    Retorna:\n",
    "    - len(P[i]) - 1: Siguiente estado.\n",
    "    \"\"\"\n",
    "    cumulative_sum = 0.0\n",
    "    for j, prob in enumerate(P[i]):\n",
    "        cumulative_sum += prob\n",
    "        if u < cumulative_sum:\n",
    "            return j\n",
    "    return len(P[i]) - 1"
   ]
  },
  {
   "cell_type": "markdown",
   "id": "1be4681e",
   "metadata": {},
   "source": [
    "### Simulación de la Cadena"
   ]
  },
  {
   "cell_type": "code",
   "execution_count": 2,
   "id": "fb283534",
   "metadata": {},
   "outputs": [],
   "source": [
    "def simulate_markov_chain(a, P, num_steps):\n",
    "    \"\"\"\n",
    "    Genera una cadena de Markov\n",
    "\n",
    "    Parámetros:\n",
    "    - a: Estado Actual.\n",
    "    - P: Matriz de Transición.\n",
    "    - num_steps: Longitud deseada para la cadena.\n",
    "\n",
    "    Retorna:\n",
    "    - chain: Cadena de Markov.\n",
    "    \"\"\"\n",
    "    chain = []\n",
    "    U = np.random.rand(num_steps)\n",
    "\n",
    "    # Simulate the first step using the initial distribution\n",
    "    chain.append(g(U[0], a))\n",
    "\n",
    "    # Simulate the rest of the steps using the transition probabilities\n",
    "    for t in range(1, num_steps):\n",
    "        chain.append(f(chain[-1], U[t], P))\n",
    "\n",
    "    return chain"
   ]
  },
  {
   "cell_type": "markdown",
   "id": "2e141610",
   "metadata": {},
   "source": [
    "## Ejemplo de Aplicación"
   ]
  },
  {
   "cell_type": "code",
   "execution_count": null,
   "id": "2b499dc3",
   "metadata": {},
   "outputs": [],
   "source": []
  }
 ],
 "metadata": {
  "kernelspec": {
   "display_name": "Python 3 (ipykernel)",
   "language": "python",
   "name": "python3"
  },
  "language_info": {
   "codemirror_mode": {
    "name": "ipython",
    "version": 3
   },
   "file_extension": ".py",
   "mimetype": "text/x-python",
   "name": "python",
   "nbconvert_exporter": "python",
   "pygments_lexer": "ipython3",
   "version": "3.10.9"
  }
 },
 "nbformat": 4,
 "nbformat_minor": 5
}
